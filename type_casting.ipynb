{
  "nbformat": 4,
  "nbformat_minor": 0,
  "metadata": {
    "colab": {
      "provenance": []
    },
    "kernelspec": {
      "name": "python3",
      "display_name": "Python 3"
    },
    "language_info": {
      "name": "python"
    }
  },
  "cells": [
    {
      "cell_type": "code",
      "execution_count": null,
      "metadata": {
        "id": "_7Zr5lzACl8U"
      },
      "outputs": [],
      "source": [
        "#### Type conversion ->implicit and explicit\n",
        "##### implicit-> Without programmer's intervention\n",
        "#### EXplicit-> force an expression of specific data type"
      ]
    },
    {
      "cell_type": "code",
      "source": [
        "#### implicit\n",
        "x=5\n",
        "y=2.5\n",
        "type(x+y)\n"
      ],
      "metadata": {
        "colab": {
          "base_uri": "https://localhost:8080/"
        },
        "id": "xIj2NpIXDxdN",
        "outputId": "6f2090bc-ac99-4889-ffe0-adf43f26aeba"
      },
      "execution_count": 2,
      "outputs": [
        {
          "output_type": "execute_result",
          "data": {
            "text/plain": [
              "float"
            ]
          },
          "metadata": {},
          "execution_count": 2
        }
      ]
    },
    {
      "cell_type": "code",
      "source": [
        "x=2.1\n",
        "y=5.2\n",
        "x*y"
      ],
      "metadata": {
        "colab": {
          "base_uri": "https://localhost:8080/"
        },
        "id": "dkMRDeDbEFD-",
        "outputId": "ffe04104-05ca-4447-ce2c-7b5ef746e98d"
      },
      "execution_count": 3,
      "outputs": [
        {
          "output_type": "execute_result",
          "data": {
            "text/plain": [
              "10.920000000000002"
            ]
          },
          "metadata": {},
          "execution_count": 3
        }
      ]
    },
    {
      "cell_type": "code",
      "source": [
        "x=10\n",
        "y=2\n",
        "x/y"
      ],
      "metadata": {
        "colab": {
          "base_uri": "https://localhost:8080/"
        },
        "id": "_UY9_qG4EMrT",
        "outputId": "d80b6990-c43a-46c2-e406-b5712436570c"
      },
      "execution_count": 4,
      "outputs": [
        {
          "output_type": "execute_result",
          "data": {
            "text/plain": [
              "5.0"
            ]
          },
          "metadata": {},
          "execution_count": 4
        }
      ]
    },
    {
      "cell_type": "code",
      "source": [
        "z"
      ],
      "metadata": {
        "colab": {
          "base_uri": "https://localhost:8080/"
        },
        "id": "Xi3Z01JLESob",
        "outputId": "6d926027-9206-4a0b-907e-c5f8e8c614ab"
      },
      "execution_count": 9,
      "outputs": [
        {
          "output_type": "execute_result",
          "data": {
            "text/plain": [
              "30"
            ]
          },
          "metadata": {},
          "execution_count": 9
        }
      ]
    },
    {
      "cell_type": "code",
      "source": [
        "z=x+int(y)"
      ],
      "metadata": {
        "id": "Q6zBYjVwEgWX"
      },
      "execution_count": 7,
      "outputs": []
    },
    {
      "cell_type": "code",
      "source": [
        "type(z)"
      ],
      "metadata": {
        "colab": {
          "base_uri": "https://localhost:8080/"
        },
        "id": "rqnMoS5AE4It",
        "outputId": "1accbc26-ca4e-41ad-e03d-b013696c5a6f"
      },
      "execution_count": 8,
      "outputs": [
        {
          "output_type": "execute_result",
          "data": {
            "text/plain": [
              "int"
            ]
          },
          "metadata": {},
          "execution_count": 8
        }
      ]
    },
    {
      "cell_type": "code",
      "source": [
        "### int, float, bool and string\n",
        "\n",
        "int+int-> "
      ],
      "metadata": {
        "id": "sEqiiesME7JV"
      },
      "execution_count": null,
      "outputs": []
    }
  ]
}